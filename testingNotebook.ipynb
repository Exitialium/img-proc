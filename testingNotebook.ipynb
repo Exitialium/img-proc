{
 "cells": [
  {
   "cell_type": "code",
   "execution_count": 3,
   "metadata": {},
   "outputs": [
    {
     "ename": "KeyboardInterrupt",
     "evalue": "",
     "output_type": "error",
     "traceback": [
      "\u001b[0;31m---------------------------------------------------------------------------\u001b[0m",
      "\u001b[0;31mKeyboardInterrupt\u001b[0m                         Traceback (most recent call last)",
      "\u001b[1;32m/Users/exitialium/Projects/img-proc/testingNotebook.ipynb Cell 1'\u001b[0m in \u001b[0;36m<cell line: 4>\u001b[0;34m()\u001b[0m\n\u001b[1;32m      <a href='vscode-notebook-cell:/Users/exitialium/Projects/img-proc/testingNotebook.ipynb#W0sZmlsZQ%3D%3D?line=6'>7</a>\u001b[0m \u001b[39mif\u001b[39;00m file \u001b[39m!=\u001b[39m \u001b[39m'\u001b[39m\u001b[39m.DS_Store\u001b[39m\u001b[39m'\u001b[39m :\n\u001b[1;32m      <a href='vscode-notebook-cell:/Users/exitialium/Projects/img-proc/testingNotebook.ipynb#W0sZmlsZQ%3D%3D?line=7'>8</a>\u001b[0m     newimg \u001b[39m=\u001b[39m Image\u001b[39m.\u001b[39mopen(\u001b[39m'\u001b[39m\u001b[39m./images/\u001b[39m\u001b[39m'\u001b[39m\u001b[39m+\u001b[39mfile)\n\u001b[0;32m----> <a href='vscode-notebook-cell:/Users/exitialium/Projects/img-proc/testingNotebook.ipynb#W0sZmlsZQ%3D%3D?line=8'>9</a>\u001b[0m     newimg \u001b[39m=\u001b[39m newimg\u001b[39m.\u001b[39;49mresize((\u001b[39m224\u001b[39;49m,\u001b[39m224\u001b[39;49m))\n\u001b[1;32m     <a href='vscode-notebook-cell:/Users/exitialium/Projects/img-proc/testingNotebook.ipynb#W0sZmlsZQ%3D%3D?line=9'>10</a>\u001b[0m     newimg\u001b[39m.\u001b[39msave(\u001b[39m'\u001b[39m\u001b[39m./smallimages/\u001b[39m\u001b[39m'\u001b[39m\u001b[39m+\u001b[39mfile)\n",
      "File \u001b[0;32m~/miniforge3/envs/tf/lib/python3.8/site-packages/PIL/Image.py:2046\u001b[0m, in \u001b[0;36mImage.resize\u001b[0;34m(self, size, resample, box, reducing_gap)\u001b[0m\n\u001b[1;32m   2042\u001b[0m     \u001b[39mraise\u001b[39;00m \u001b[39mValueError\u001b[39;00m(\u001b[39m\"\u001b[39m\u001b[39mreducing_gap must be 1.0 or greater\u001b[39m\u001b[39m\"\u001b[39m)\n\u001b[1;32m   2044\u001b[0m size \u001b[39m=\u001b[39m \u001b[39mtuple\u001b[39m(size)\n\u001b[0;32m-> 2046\u001b[0m \u001b[39mself\u001b[39;49m\u001b[39m.\u001b[39;49mload()\n\u001b[1;32m   2047\u001b[0m \u001b[39mif\u001b[39;00m box \u001b[39mis\u001b[39;00m \u001b[39mNone\u001b[39;00m:\n\u001b[1;32m   2048\u001b[0m     box \u001b[39m=\u001b[39m (\u001b[39m0\u001b[39m, \u001b[39m0\u001b[39m) \u001b[39m+\u001b[39m \u001b[39mself\u001b[39m\u001b[39m.\u001b[39msize\n",
      "File \u001b[0;32m~/miniforge3/envs/tf/lib/python3.8/site-packages/PIL/ImageFile.py:257\u001b[0m, in \u001b[0;36mImageFile.load\u001b[0;34m(self)\u001b[0m\n\u001b[1;32m    251\u001b[0m         \u001b[39mraise\u001b[39;00m \u001b[39mOSError\u001b[39;00m(\n\u001b[1;32m    252\u001b[0m             \u001b[39m\"\u001b[39m\u001b[39mimage file is truncated \u001b[39m\u001b[39m\"\u001b[39m\n\u001b[1;32m    253\u001b[0m             \u001b[39mf\u001b[39m\u001b[39m\"\u001b[39m\u001b[39m(\u001b[39m\u001b[39m{\u001b[39;00m\u001b[39mlen\u001b[39m(b)\u001b[39m}\u001b[39;00m\u001b[39m bytes not processed)\u001b[39m\u001b[39m\"\u001b[39m\n\u001b[1;32m    254\u001b[0m         )\n\u001b[1;32m    256\u001b[0m b \u001b[39m=\u001b[39m b \u001b[39m+\u001b[39m s\n\u001b[0;32m--> 257\u001b[0m n, err_code \u001b[39m=\u001b[39m decoder\u001b[39m.\u001b[39;49mdecode(b)\n\u001b[1;32m    258\u001b[0m \u001b[39mif\u001b[39;00m n \u001b[39m<\u001b[39m \u001b[39m0\u001b[39m:\n\u001b[1;32m    259\u001b[0m     \u001b[39mbreak\u001b[39;00m\n",
      "\u001b[0;31mKeyboardInterrupt\u001b[0m: "
     ]
    }
   ],
   "source": [
    "import os\n",
    "from PIL import Image\n",
    "\n",
    "for subdir, dirs, files in os.walk('./images'):\n",
    "    #print(len(files))\n",
    "    for file in files:\n",
    "        if file != '.DS_Store' :\n",
    "            newimg = Image.open('./images/'+file)\n",
    "            newimg = newimg.resize((224,224))\n",
    "            newimg.save('./smallimages/'+file)"
   ]
  },
  {
   "cell_type": "code",
   "execution_count": 1,
   "metadata": {},
   "outputs": [
    {
     "name": "stdout",
     "output_type": "stream",
     "text": [
      "14999\n"
     ]
    }
   ],
   "source": [
    "import numpy as np\n",
    "import os\n",
    "from PIL import Image\n",
    "aug_images = []\n",
    "\n",
    "for subdir, dirs, files in os.walk('./smallimages'): \n",
    "    files = sorted(files)\n",
    "    for file in files:\n",
    "        if file != '.DS_Store' :\n",
    "            image = Image.open('./smallimages/' + file)\n",
    "            image = np.array(image)\n",
    "            if len(image.shape) == 3:\n",
    "                image = np.delete(image, 2, 2)  \n",
    "                image = np.delete(image, 1, 2)\n",
    "                image = np.delete(image, 0, 2)\n",
    "                image = image.squeeze()\n",
    "            aug_images.append(image)\n",
    "\n",
    "print(len(aug_images))"
   ]
  },
  {
   "cell_type": "code",
   "execution_count": 2,
   "metadata": {},
   "outputs": [
    {
     "name": "stderr",
     "output_type": "stream",
     "text": [
      "2022-09-16 00:34:53.260754: I tensorflow/core/platform/cpu_feature_guard.cc:193] This TensorFlow binary is optimized with oneAPI Deep Neural Network Library (oneDNN) to use the following CPU instructions in performance-critical operations:  AVX2 AVX512F AVX512_VNNI FMA\n",
      "To enable them in other operations, rebuild TensorFlow with the appropriate compiler flags.\n",
      "2022-09-16 00:34:53.640879: I tensorflow/core/util/util.cc:169] oneDNN custom operations are on. You may see slightly different numerical results due to floating-point round-off errors from different computation orders. To turn them off, set the environment variable `TF_ENABLE_ONEDNN_OPTS=0`.\n",
      "2022-09-16 00:34:53.786948: E tensorflow/stream_executor/cuda/cuda_blas.cc:2981] Unable to register cuBLAS factory: Attempting to register factory for plugin cuBLAS when one has already been registered\n",
      "2022-09-16 00:34:55.082494: W tensorflow/stream_executor/platform/default/dso_loader.cc:64] Could not load dynamic library 'libnvinfer.so.7'; dlerror: libnvinfer.so.7: cannot open shared object file: No such file or directory\n",
      "2022-09-16 00:34:55.082630: W tensorflow/stream_executor/platform/default/dso_loader.cc:64] Could not load dynamic library 'libnvinfer_plugin.so.7'; dlerror: libnvinfer_plugin.so.7: cannot open shared object file: No such file or directory\n",
      "2022-09-16 00:34:55.082637: W tensorflow/compiler/tf2tensorrt/utils/py_utils.cc:38] TF-TRT Warning: Cannot dlopen some TensorRT libraries. If you would like to use Nvidia GPU with TensorRT, please make sure the missing libraries mentioned above are installed properly.\n"
     ]
    },
    {
     "name": "stdout",
     "output_type": "stream",
     "text": [
      "(14999, 224, 224, 1)\n"
     ]
    }
   ],
   "source": [
    "import tensorflow as tf\n",
    "import scipy\n",
    "\n",
    "x_train = np.stack(aug_images, axis=0)\n",
    "x_train = x_train.reshape((len(x_train), 224, 224, 1))\n",
    "print(x_train.shape)\n",
    "\n",
    "# datagen = tf.keras.preprocessing.image.ImageDataGenerator(\n",
    "#     featurewise_center=True,\n",
    "#     featurewise_std_normalization=True,\n",
    "#     rotation_range=20,\n",
    "#     shear_range=0.2,\n",
    "#     width_shift_range=0.2,\n",
    "#     height_shift_range=0.2,\n",
    "#     horizontal_flip=True)\n",
    "# # compute quantities required for featurewise normalization\n",
    "# # (std, mean, and principal components if ZCA whitening is applied)\n",
    "\n",
    "# datagen.fit(x_train)\n",
    "# save_here = './augimages'\n",
    "\n"
   ]
  },
  {
   "cell_type": "code",
   "execution_count": 3,
   "metadata": {},
   "outputs": [],
   "source": [
    "datagen = tf.keras.preprocessing.image.ImageDataGenerator(\n",
    "    featurewise_center=True,\n",
    "    featurewise_std_normalization=True,\n",
    "    rotation_range=20,\n",
    "    shear_range=0.2,\n",
    "    width_shift_range=0.2,\n",
    "    height_shift_range=0.2,\n",
    "    horizontal_flip=True)\n",
    "# compute quantities required for featurewise normalization\n",
    "# (std, mean, and principal components if ZCA whitening is applied)\n",
    "\n",
    "datagen.fit(x_train)"
   ]
  },
  {
   "cell_type": "code",
   "execution_count": 4,
   "metadata": {},
   "outputs": [
    {
     "ename": "KeyboardInterrupt",
     "evalue": "",
     "output_type": "error",
     "traceback": [
      "\u001b[0;31m---------------------------------------------------------------------------\u001b[0m",
      "\u001b[0;31mKeyboardInterrupt\u001b[0m                         Traceback (most recent call last)",
      "\u001b[1;32m/home/exitialium/projects/img-proc/testingNotebook.ipynb Cell 5\u001b[0m in \u001b[0;36m<cell line: 8>\u001b[0;34m()\u001b[0m\n\u001b[1;32m     <a href='vscode-notebook-cell://wsl%2Bubuntu/home/exitialium/projects/img-proc/testingNotebook.ipynb#W3sdnNjb2RlLXJlbW90ZQ%3D%3D?line=10'>11</a>\u001b[0m \u001b[39mfor\u001b[39;00m file \u001b[39min\u001b[39;00m files[\u001b[39m1001\u001b[39m:]:\n\u001b[1;32m     <a href='vscode-notebook-cell://wsl%2Bubuntu/home/exitialium/projects/img-proc/testingNotebook.ipynb#W3sdnNjb2RlLXJlbW90ZQ%3D%3D?line=11'>12</a>\u001b[0m     newimg \u001b[39m=\u001b[39m Image\u001b[39m.\u001b[39mopen(\u001b[39m'\u001b[39m\u001b[39m./smallimages/\u001b[39m\u001b[39m'\u001b[39m\u001b[39m+\u001b[39mfile)\n\u001b[0;32m---> <a href='vscode-notebook-cell://wsl%2Bubuntu/home/exitialium/projects/img-proc/testingNotebook.ipynb#W3sdnNjb2RlLXJlbW90ZQ%3D%3D?line=12'>13</a>\u001b[0m     newimg\u001b[39m.\u001b[39;49msave(\u001b[39m'\u001b[39;49m\u001b[39m./procImages/\u001b[39;49m\u001b[39m'\u001b[39;49m\u001b[39m+\u001b[39;49mfile)\n",
      "File \u001b[0;32m~/miniconda3/envs/emade/lib/python3.8/site-packages/PIL/Image.py:2320\u001b[0m, in \u001b[0;36mImage.save\u001b[0;34m(self, fp, format, **params)\u001b[0m\n\u001b[1;32m   2317\u001b[0m         fp \u001b[39m=\u001b[39m builtins\u001b[39m.\u001b[39mopen(filename, \u001b[39m\"\u001b[39m\u001b[39mw+b\u001b[39m\u001b[39m\"\u001b[39m)\n\u001b[1;32m   2319\u001b[0m \u001b[39mtry\u001b[39;00m:\n\u001b[0;32m-> 2320\u001b[0m     save_handler(\u001b[39mself\u001b[39;49m, fp, filename)\n\u001b[1;32m   2321\u001b[0m \u001b[39mexcept\u001b[39;00m \u001b[39mException\u001b[39;00m:\n\u001b[1;32m   2322\u001b[0m     \u001b[39mif\u001b[39;00m open_fp:\n",
      "File \u001b[0;32m~/miniconda3/envs/emade/lib/python3.8/site-packages/PIL/PngImagePlugin.py:1374\u001b[0m, in \u001b[0;36m_save\u001b[0;34m(im, fp, filename, chunk, save_all)\u001b[0m\n\u001b[1;32m   1372\u001b[0m     _write_multiple_frames(im, fp, chunk, rawmode)\n\u001b[1;32m   1373\u001b[0m \u001b[39melse\u001b[39;00m:\n\u001b[0;32m-> 1374\u001b[0m     ImageFile\u001b[39m.\u001b[39;49m_save(im, _idat(fp, chunk), [(\u001b[39m\"\u001b[39;49m\u001b[39mzip\u001b[39;49m\u001b[39m\"\u001b[39;49m, (\u001b[39m0\u001b[39;49m, \u001b[39m0\u001b[39;49m) \u001b[39m+\u001b[39;49m im\u001b[39m.\u001b[39;49msize, \u001b[39m0\u001b[39;49m, rawmode)])\n\u001b[1;32m   1376\u001b[0m \u001b[39mif\u001b[39;00m info:\n\u001b[1;32m   1377\u001b[0m     \u001b[39mfor\u001b[39;00m info_chunk \u001b[39min\u001b[39;00m info\u001b[39m.\u001b[39mchunks:\n",
      "File \u001b[0;32m~/miniconda3/envs/emade/lib/python3.8/site-packages/PIL/ImageFile.py:518\u001b[0m, in \u001b[0;36m_save\u001b[0;34m(im, fp, tile, bufsize)\u001b[0m\n\u001b[1;32m    515\u001b[0m \u001b[39mif\u001b[39;00m exc:\n\u001b[1;32m    516\u001b[0m     \u001b[39m# compress to Python file-compatible object\u001b[39;00m\n\u001b[1;32m    517\u001b[0m     \u001b[39mwhile\u001b[39;00m \u001b[39mTrue\u001b[39;00m:\n\u001b[0;32m--> 518\u001b[0m         l, s, d \u001b[39m=\u001b[39m encoder\u001b[39m.\u001b[39;49mencode(bufsize)\n\u001b[1;32m    519\u001b[0m         fp\u001b[39m.\u001b[39mwrite(d)\n\u001b[1;32m    520\u001b[0m         \u001b[39mif\u001b[39;00m s:\n",
      "\u001b[0;31mKeyboardInterrupt\u001b[0m: "
     ]
    }
   ],
   "source": [
    "save_here = './procImages/'\n",
    "for x, val in zip(datagen.flow(x_train,\n",
    "        save_to_dir=save_here,     #this is where we figure out where to save\n",
    "        save_format='png'),\n",
    "                  range(0)):\n",
    "    pass\n",
    "\n",
    "for subdir, dirs, files in os.walk('./smallimages'):\n",
    "    #print(len(files))\n",
    "    files = sorted(files)\n",
    "    for file in files[1001:]:\n",
    "        newimg = Image.open('./smallimages/'+file)\n",
    "        newimg.save('./procImages/'+file)"
   ]
  },
  {
   "cell_type": "code",
   "execution_count": null,
   "metadata": {},
   "outputs": [],
   "source": []
  }
 ],
 "metadata": {
  "kernelspec": {
   "display_name": "Python 3.8.13 ('emade')",
   "language": "python",
   "name": "python3"
  },
  "language_info": {
   "codemirror_mode": {
    "name": "ipython",
    "version": 3
   },
   "file_extension": ".py",
   "mimetype": "text/x-python",
   "name": "python",
   "nbconvert_exporter": "python",
   "pygments_lexer": "ipython3",
   "version": "3.8.13"
  },
  "orig_nbformat": 4,
  "vscode": {
   "interpreter": {
    "hash": "9d7efc0695b1277a06a5592507103a00c1c0e22e9f016849d9ef85e03bb3065e"
   }
  }
 },
 "nbformat": 4,
 "nbformat_minor": 2
}
